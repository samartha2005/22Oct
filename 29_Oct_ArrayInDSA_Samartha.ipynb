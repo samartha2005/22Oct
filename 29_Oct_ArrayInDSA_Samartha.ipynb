{
 "cells": [
  {
   "cell_type": "code",
   "execution_count": 4,
   "id": "d38499f5-b0dd-4d48-9551-e6b7a500c548",
   "metadata": {},
   "outputs": [
    {
     "name": "stdout",
     "output_type": "stream",
     "text": [
      "True\n"
     ]
    }
   ],
   "source": [
    "'''1. Given an array, check if it contains any duplicates or not.\n",
    "arr = [1, 2, 4, 2, 5, 9]'''\n",
    "\n",
    "\n",
    "# Code\n",
    "def contains_duplicates(arr):\n",
    "    seen = set()\n",
    "    for item in arr:\n",
    "        if item in seen:\n",
    "            return True\n",
    "        seen.add(item)\n",
    "    return False\n",
    "\n",
    "# driver Code\n",
    "arr = [1, 2, 4, 2, 5, 9]\n",
    "if contains_duplicates(arr):\n",
    "    print(\"True\")\n",
    "else:\n",
    "    print(\"False\")\n"
   ]
  },
  {
   "cell_type": "code",
   "execution_count": 5,
   "id": "97de14a9-f1f6-4ede-8876-3fcbf5d1e076",
   "metadata": {},
   "outputs": [
    {
     "name": "stdout",
     "output_type": "stream",
     "text": [
      "[5, 6, 7, 1, 2, 3, 4]\n"
     ]
    }
   ],
   "source": [
    "'''2.Given an array and an integer k, rotate the array to the right by k steps.\n",
    "arr = [1, 2, 3, 4, 5, 6, 7] k = 3'''\n",
    "\n",
    "# Code\n",
    "def rotate_array(arr, k):\n",
    "    if not arr:\n",
    "        return arr\n",
    "    \n",
    "    n = len(arr)\n",
    "    k = k % n  # To handle cases where k is larger than the length of the array\n",
    "    return arr[-k:] + arr[:-k]\n",
    "# driver Code\n",
    "arr = [1, 2, 3, 4, 5, 6, 7]\n",
    "k = 3\n",
    "result = rotate_array(arr, k)\n",
    "print(result)"
   ]
  },
  {
   "cell_type": "code",
   "execution_count": 6,
   "id": "ddea56b7-e85c-422b-8c93-a5fd48186317",
   "metadata": {},
   "outputs": [
    {
     "name": "stdout",
     "output_type": "stream",
     "text": [
      "[12, 9, 7, 5, 4, 2]\n"
     ]
    }
   ],
   "source": [
    "'''3.Reverse the given array in-place, means without using any extra data structure.\n",
    "arr = [2, 4, 5, 7, 9, 12]'''\n",
    "\n",
    "# Code\n",
    "def reverse_array_in_place(arr):\n",
    "    start = 0\n",
    "    end = len(arr) - 1\n",
    "    while start < end:\n",
    "        arr[start], arr[end] = arr[end], arr[start]\n",
    "        start += 1\n",
    "        end -= 1\n",
    "# driver Code\n",
    "arr = [2, 4, 5, 7, 9, 12]\n",
    "reverse_array_in_place(arr)\n",
    "print( arr)\n"
   ]
  },
  {
   "cell_type": "code",
   "execution_count": 7,
   "id": "9c55ee68-617f-495b-9611-f2e8cf44431f",
   "metadata": {},
   "outputs": [
    {
     "name": "stdout",
     "output_type": "stream",
     "text": [
      "Maximum element in given array is:  20\n"
     ]
    }
   ],
   "source": [
    "'''4.Given an array of integers, find the maximum element in an array\n",
    "arr = [10, 5, 20, 8, 15]'''\n",
    "\n",
    "# Code\n",
    "arr = [10, 5, 20, 8, 15]\n",
    "maximum = max(arr)\n",
    "print(\"Maximum element in given array is: \", maximum)\n"
   ]
  },
  {
   "cell_type": "code",
   "execution_count": 8,
   "id": "f204226f-d9a7-4bfe-a5b4-09b57af58511",
   "metadata": {},
   "outputs": [
    {
     "name": "stdout",
     "output_type": "stream",
     "text": [
      "[1, 2, 3, 4, 5]\n"
     ]
    }
   ],
   "source": [
    "'''5.Given a sorted array, remove the duplicate element without using any extra data structure.\n",
    "arr = [1, 1, 2, 2, 2, 3, 3, 4, 4, 4, 5, 5]'''\n",
    "\n",
    "# Code\n",
    "def remove_duplicates(arr):\n",
    "    if not arr:\n",
    "        return arr\n",
    "\n",
    "    n = len(arr)\n",
    "    unique_index = 0\n",
    "\n",
    "    for i in range(1, n):\n",
    "        if arr[i] != arr[unique_index]:\n",
    "            unique_index += 1\n",
    "            arr[unique_index] = arr[i]\n",
    "\n",
    "    return arr[:unique_index + 1]\n",
    "\n",
    "# driver code\n",
    "arr = [1, 1, 2, 2, 2, 3, 3, 4, 4, 4, 5, 5]\n",
    "result = remove_duplicates(arr)\n",
    "print(result)\n"
   ]
  }
 ],
 "metadata": {
  "kernelspec": {
   "display_name": "Python 3 (ipykernel)",
   "language": "python",
   "name": "python3"
  },
  "language_info": {
   "codemirror_mode": {
    "name": "ipython",
    "version": 3
   },
   "file_extension": ".py",
   "mimetype": "text/x-python",
   "name": "python",
   "nbconvert_exporter": "python",
   "pygments_lexer": "ipython3",
   "version": "3.10.8"
  }
 },
 "nbformat": 4,
 "nbformat_minor": 5
}
